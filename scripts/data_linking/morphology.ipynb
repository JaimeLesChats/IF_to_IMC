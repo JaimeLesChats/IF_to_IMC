{
 "cells": [
  {
   "cell_type": "code",
   "execution_count": null,
   "id": "fb78a109",
   "metadata": {},
   "outputs": [
    {
     "name": "stdout",
     "output_type": "stream",
     "text": [
      "roi1 : [16686.59, 5875]\n",
      "roi2 : [12144.59, 6710]\n",
      "roi3 : [9634.59, 6553]\n",
      "\n"
     ]
    }
   ],
   "source": [
    "import pandas as pd\n",
    "\n"
   ]
  },
  {
   "cell_type": "code",
   "execution_count": 5,
   "id": "9f804ba3",
   "metadata": {},
   "outputs": [
    {
     "data": {
      "application/vnd.microsoft.datawrangler.viewer.v0+json": {
       "columns": [
        {
         "name": "index",
         "rawType": "int64",
         "type": "integer"
        },
        {
         "name": "Tissu name",
         "rawType": "object",
         "type": "string"
        },
        {
         "name": "ROI name",
         "rawType": "object",
         "type": "string"
        },
        {
         "name": "X",
         "rawType": "int64",
         "type": "integer"
        },
        {
         "name": "Y",
         "rawType": "int64",
         "type": "integer"
        },
        {
         "name": "Width",
         "rawType": "int64",
         "type": "integer"
        },
        {
         "name": "Height",
         "rawType": "int64",
         "type": "integer"
        }
       ],
       "ref": "ce841943-8c93-43ca-a219-3d37b22099da",
       "rows": [
        [
         "18",
         "15T011146-16",
         "15T011146-16_01",
         "19537",
         "10755",
         "2589",
         "1612"
        ],
        [
         "19",
         "15T011146-16",
         "15T011146-16_02",
         "24079",
         "11590",
         "2147",
         "1906"
        ],
        [
         "20",
         "15T011146-16",
         "15T011146-16_03",
         "26589",
         "11433",
         "2407",
         "1757"
        ]
       ],
       "shape": {
        "columns": 6,
        "rows": 3
       }
      },
      "text/html": [
       "<div>\n",
       "<style scoped>\n",
       "    .dataframe tbody tr th:only-of-type {\n",
       "        vertical-align: middle;\n",
       "    }\n",
       "\n",
       "    .dataframe tbody tr th {\n",
       "        vertical-align: top;\n",
       "    }\n",
       "\n",
       "    .dataframe thead th {\n",
       "        text-align: right;\n",
       "    }\n",
       "</style>\n",
       "<table border=\"1\" class=\"dataframe\">\n",
       "  <thead>\n",
       "    <tr style=\"text-align: right;\">\n",
       "      <th></th>\n",
       "      <th>Tissu name</th>\n",
       "      <th>ROI name</th>\n",
       "      <th>X</th>\n",
       "      <th>Y</th>\n",
       "      <th>Width</th>\n",
       "      <th>Height</th>\n",
       "    </tr>\n",
       "  </thead>\n",
       "  <tbody>\n",
       "    <tr>\n",
       "      <th>18</th>\n",
       "      <td>15T011146-16</td>\n",
       "      <td>15T011146-16_01</td>\n",
       "      <td>19537</td>\n",
       "      <td>10755</td>\n",
       "      <td>2589</td>\n",
       "      <td>1612</td>\n",
       "    </tr>\n",
       "    <tr>\n",
       "      <th>19</th>\n",
       "      <td>15T011146-16</td>\n",
       "      <td>15T011146-16_02</td>\n",
       "      <td>24079</td>\n",
       "      <td>11590</td>\n",
       "      <td>2147</td>\n",
       "      <td>1906</td>\n",
       "    </tr>\n",
       "    <tr>\n",
       "      <th>20</th>\n",
       "      <td>15T011146-16</td>\n",
       "      <td>15T011146-16_03</td>\n",
       "      <td>26589</td>\n",
       "      <td>11433</td>\n",
       "      <td>2407</td>\n",
       "      <td>1757</td>\n",
       "    </tr>\n",
       "  </tbody>\n",
       "</table>\n",
       "</div>"
      ],
      "text/plain": [
       "      Tissu name         ROI name      X      Y  Width  Height\n",
       "18  15T011146-16  15T011146-16_01  19537  10755   2589    1612\n",
       "19  15T011146-16  15T011146-16_02  24079  11590   2147    1906\n",
       "20  15T011146-16  15T011146-16_03  26589  11433   2407    1757"
      ]
     },
     "execution_count": 5,
     "metadata": {},
     "output_type": "execute_result"
    }
   ],
   "source": [
    "roi_data = pd.read_excel('../../data/22-IMC-H-27_ROI.xlsx')\n",
    "\n",
    "patient = '15T011146-16'\n",
    "\n",
    "roi_data = roi_data[roi_data['Tissu name'] == patient]\n",
    "roi_data"
   ]
  },
  {
   "cell_type": "code",
   "execution_count": 6,
   "id": "b10ddce6",
   "metadata": {},
   "outputs": [
    {
     "name": "stdout",
     "output_type": "stream",
     "text": [
      "roi1 : [16686.59, 5875]\n",
      "roi2 : [12144.59, 6710]\n",
      "roi3 : [9634.59, 6553]\n",
      "\n"
     ]
    }
   ],
   "source": [
    "qwidth = 24081.59\n",
    "qheight = 18640.07\n",
    "qorigin = [12142,4880]\n",
    "\n",
    "def ptq(coords):\n",
    "    '''Platform to Qupath coordinates'''\n",
    "    return [qwidth-(coords[0] - qorigin[0]),(coords[1]-qorigin[1])]\n",
    "\n",
    "\n",
    "roi1 = [19537,10755]\n",
    "roi2 = [24079,11590]\n",
    "roi3 = [26589,11433]\n",
    "\n",
    "\n",
    "print('roi1 : {}\\nroi2 : {}\\nroi3 : {}\\n'.format(ptq(roi1),ptq(roi2),ptq(roi3)))\n",
    "\n",
    "\n",
    "#df = pd.read_csv('15T011146-16 HE - 2022-06-09 13.57.csv')"
   ]
  },
  {
   "cell_type": "code",
   "execution_count": null,
   "id": "f51b0067",
   "metadata": {},
   "outputs": [],
   "source": []
  }
 ],
 "metadata": {
  "kernelspec": {
   "display_name": "env",
   "language": "python",
   "name": "python3"
  },
  "language_info": {
   "codemirror_mode": {
    "name": "ipython",
    "version": 3
   },
   "file_extension": ".py",
   "mimetype": "text/x-python",
   "name": "python",
   "nbconvert_exporter": "python",
   "pygments_lexer": "ipython3",
   "version": "3.13.2"
  }
 },
 "nbformat": 4,
 "nbformat_minor": 5
}
