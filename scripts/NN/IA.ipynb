{
 "cells": [
  {
   "cell_type": "code",
   "execution_count": 3,
   "id": "fcbed19c",
   "metadata": {},
   "outputs": [],
   "source": [
    "import numpy as np\n",
    "import pandas as pd\n",
    "import matplotlib.pyplot as plt\n",
    "import seaborn as sns\n",
    "import os\n",
    "from pathlib import Path\n",
    "import anndata"
   ]
  },
  {
   "cell_type": "code",
   "execution_count": 2,
   "id": "071d5a67",
   "metadata": {},
   "outputs": [
    {
     "name": "stderr",
     "output_type": "stream",
     "text": [
      "/home/matthieu.bernard/miniconda3/envs/env/lib/python3.13/site-packages/tqdm/auto.py:21: TqdmWarning: IProgress not found. Please update jupyter and ipywidgets. See https://ipywidgets.readthedocs.io/en/stable/user_install.html\n",
      "  from .autonotebook import tqdm as notebook_tqdm\n"
     ]
    }
   ],
   "source": [
    "import torch\n",
    "import torch.nn as nn\n",
    "import torch.optim as optim\n",
    "import torchvision.transforms as tf\n",
    "import timm\n",
    "from torch.utils.data import Dataset, DataLoader\n",
    "import tqdm"
   ]
  },
  {
   "cell_type": "code",
   "execution_count": 4,
   "id": "5fddc877",
   "metadata": {},
   "outputs": [],
   "source": [
    "#Dataset de test\n",
    "X_test = torch.linspace(-10, 10, 100).view(-1, 1)\n",
    "Y_test = X_test * 2"
   ]
  },
  {
   "cell_type": "code",
   "execution_count": 5,
   "id": "4f9fe260",
   "metadata": {},
   "outputs": [],
   "source": [
    "#Dataset\n",
    "class MarkersDataset(Dataset):\n",
    "    def __init__(self):\n",
    "        self.X = torch.tensor(X_test)\n",
    "        self.y = torch.tensor(Y_test)\n",
    "        #self.X = torch.tensor(markers_df.to_numpy())\n",
    "        #self.y = torch.tensor(clusters_df.to_numpy())\n",
    "\n",
    "    def __len__(self):\n",
    "        return len(self.X)\n",
    "\n",
    "    def __getitem__(self, idx):\n",
    "        return self.X[idx], self.y[idx]"
   ]
  },
  {
   "cell_type": "code",
   "execution_count": 6,
   "id": "e080f743",
   "metadata": {},
   "outputs": [],
   "source": [
    "class SimpleNN(nn.Module):\n",
    "    def __init__(self, nb_if_markers, nb_imc_markers, hidden_dim=1000):\n",
    "        super().__init__()\n",
    "\n",
    "        self.if_to_hidden1 = nn.Linear(nb_if_markers,hidden_dim)\n",
    "        self.hidden1_to_hidden2 = nn.Linear(hidden_dim,hidden_dim)\n",
    "        self.hidden2_to_imc = nn.Linear(hidden_dim,nb_imc_markers)\n",
    "\n",
    "        self.relu = nn.ReLU()\n",
    "\n",
    "        self.net = nn.Sequential(self.if_to_hidden1,self.relu,\n",
    "                                 self.hidden1_to_hidden2,self.relu,\n",
    "                                 self.hidden2_to_imc)\n",
    "\n",
    "    def forward(self,if_markers):\n",
    "        predicted_imc = self.net(if_markers)\n",
    "        \n",
    "        return predicted_imc"
   ]
  },
  {
   "cell_type": "code",
   "execution_count": 7,
   "id": "818b135e",
   "metadata": {},
   "outputs": [
    {
     "name": "stderr",
     "output_type": "stream",
     "text": [
      "/tmp/ipykernel_29891/3707492734.py:4: UserWarning: To copy construct from a tensor, it is recommended to use sourceTensor.clone().detach() or sourceTensor.clone().detach().requires_grad_(True), rather than torch.tensor(sourceTensor).\n",
      "  self.X = torch.tensor(X_test)\n",
      "/tmp/ipykernel_29891/3707492734.py:5: UserWarning: To copy construct from a tensor, it is recommended to use sourceTensor.clone().detach() or sourceTensor.clone().detach().requires_grad_(True), rather than torch.tensor(sourceTensor).\n",
      "  self.y = torch.tensor(Y_test)\n"
     ]
    }
   ],
   "source": [
    "device = torch.device(\"cuda\" if torch.cuda.is_available() else \"cpu\")\n",
    "\n",
    "#number of markers \n",
    "nb_IF_markers = 1\n",
    "nb_IMC_markers = 1\n",
    "\n",
    "#Training parameters\n",
    "n_epochs = 500\n",
    "batch_size = 16\n",
    "lr = 0.01 # Karpathy constant 3e-4\n",
    "\n",
    "#dataset loading\n",
    "dataset = MarkersDataset()\n",
    "train_loader = DataLoader(dataset=dataset, batch_size = batch_size, shuffle=True)\n",
    "model = SimpleNN(nb_IF_markers,nb_IMC_markers).to(device)\n",
    "optimizer = optim.Adam(model.parameters(), lr = lr)\n",
    "loss_f = nn.MSELoss(reduction = \"sum\")"
   ]
  },
  {
   "cell_type": "code",
   "execution_count": 16,
   "id": "c3935f12",
   "metadata": {},
   "outputs": [
    {
     "name": "stderr",
     "output_type": "stream",
     "text": [
      "100%|██████████| 500/500 [00:31<00:00, 16.04it/s, loss=0.00284]\n"
     ]
    }
   ],
   "source": [
    "loop = tqdm.tqdm(range(n_epochs))\n",
    "for epoch in loop:\n",
    "    model.train()\n",
    "    predicted_imc = model(X_test)\n",
    "\n",
    "    reconstruction_loss = loss_f(predicted_imc,Y_test)\n",
    "    loss = reconstruction_loss # not VAE so no kl_div\n",
    "    optimizer.zero_grad()\n",
    "    loss.backward()\n",
    "    optimizer.step()\n",
    "    loop.set_postfix(loss=loss.item())"
   ]
  },
  {
   "cell_type": "code",
   "execution_count": null,
   "id": "c4113913",
   "metadata": {},
   "outputs": [],
   "source": [
    "directory = './nn_checkpoints/'\n",
    "\n",
    "if not os.path.exists(directory):\n",
    "        os.makedirs(directory)\n",
    "\n",
    "nn_basename = 'nn_' + str(n_epochs) + 'epochs.pth'\n",
    "nn_path = directory + nn_basename\n",
    "\n",
    "torch.save({'tot_epoch':n_epochs,\n",
    "            'model_state_dict' : model.state_dict(),\n",
    "            'optimizer_state_dict' : optimizer.state_dict(),\n",
    "            'loss' : loss,\n",
    "            },nn_path)"
   ]
  },
  {
   "cell_type": "code",
   "execution_count": null,
   "id": "c2387da8",
   "metadata": {},
   "outputs": [],
   "source": [
    "nn_basename = 'nn_' + str(n_epochs) + 'epochs.pth'\n",
    "nn_path = directory + nn_basename\n",
    "\n",
    "checkpoint = torch.load(nn_path)"
   ]
  },
  {
   "cell_type": "code",
   "execution_count": null,
   "id": "6e2fce7b",
   "metadata": {},
   "outputs": [],
   "source": []
  }
 ],
 "metadata": {
  "kernelspec": {
   "display_name": "env",
   "language": "python",
   "name": "python3"
  },
  "language_info": {
   "codemirror_mode": {
    "name": "ipython",
    "version": 3
   },
   "file_extension": ".py",
   "mimetype": "text/x-python",
   "name": "python",
   "nbconvert_exporter": "python",
   "pygments_lexer": "ipython3",
   "version": "3.13.2"
  }
 },
 "nbformat": 4,
 "nbformat_minor": 5
}
